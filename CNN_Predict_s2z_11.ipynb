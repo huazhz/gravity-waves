{
 "cells": [
  {
   "cell_type": "markdown",
   "metadata": {},
   "source": [
    "# CNN Architecture for Predicting s2z"
   ]
  },
  {
   "cell_type": "code",
   "execution_count": 1,
   "metadata": {},
   "outputs": [],
   "source": [
    "import numpy as np\n",
    "np.set_printoptions(threshold=np.nan)\n",
    "import random\n",
    "import h5py as h5\n",
    "import tensorflow as tf\n",
    "import matplotlib.pyplot as plt\n",
    "from helper_functions import *"
   ]
  },
  {
   "cell_type": "markdown",
   "metadata": {},
   "source": [
    "Set up CNN Architecture"
   ]
  },
  {
   "cell_type": "code",
   "execution_count": 2,
   "metadata": {},
   "outputs": [
    {
     "name": "stdout",
     "output_type": "stream",
     "text": [
      "(?, 6000, 1, 64)\n",
      "(?, 1200, 1, 128)\n",
      "(?, 240, 1, 256)\n",
      "(?, 48, 1, 256)\n",
      "(?, 12, 1, 256)\n"
     ]
    }
   ],
   "source": [
    "#Placeholders\n",
    "x = tf.placeholder(tf.float32, shape = [None, 30000])\n",
    "y = tf.placeholder(tf.float32, shape = [None, 3])\n",
    "\n",
    "#Reshape input\n",
    "inp = tf.reshape(x, [-1, 30000, 1, 1])\n",
    "\n",
    "#Convolutional layer 1,2\n",
    "w_conv1 = weight('w_conv1', [80, 1, 1, 64])\n",
    "b_conv1 = bias('b_conv1', [64])\n",
    "conv1 = tf.nn.relu(conv(inp, w_conv1) + b_conv1)\n",
    "\n",
    "w_conv2 = weight('w_conv2', [20, 1, 64, 64])\n",
    "b_conv2 = bias('b_conv2', [64])\n",
    "conv2 = tf.nn.relu(conv(conv1, w_conv2) + b_conv2)\n",
    "\n",
    "#Max pool 1\n",
    "conv2 = maxPool(conv2, 5)\n",
    "print(conv2.shape)\n",
    "\n",
    "#Convolutional layer 3,4\n",
    "w_conv3 = weight('w_conv3', [5, 1, 64, 128])\n",
    "b_conv3 = bias('b_conv3', [128])\n",
    "conv3 = tf.nn.relu(conv(conv2, w_conv3) + b_conv3)\n",
    "\n",
    "w_conv4 = weight('w_conv4', [5, 1, 128, 128])\n",
    "b_conv4 = bias('b_conv4', [128])\n",
    "conv4 = tf.nn.relu(conv(conv3, w_conv4) + b_conv4)\n",
    "\n",
    "#Max pool 2\n",
    "conv4 = maxPool(conv4, 5)\n",
    "print(conv4.shape)\n",
    "\n",
    "#Convolutional layer 5\n",
    "w_conv5 = weight('w_conv5', [5, 1, 128, 256])\n",
    "b_conv5 = bias('b_conv5', [256])\n",
    "conv5 = tf.nn.relu(conv(conv4, w_conv5) + b_conv5)\n",
    "\n",
    "#Convolutional layer 6\n",
    "w_conv6 = weight('w_conv6', [5, 1, 256, 256])\n",
    "b_conv6 = bias('b_conv6', [256])\n",
    "conv6 = tf.nn.relu(conv(conv5, w_conv6) + b_conv6)\n",
    "\n",
    "#Max pool 3\n",
    "conv6 = maxPool(conv6, 5)\n",
    "print(conv6.shape)\n",
    "\n",
    "#Convolutional layer 7\n",
    "w_conv7 = weight('w_conv7', [5, 1, 256, 256])\n",
    "b_conv7 = bias('b_conv7', [256])\n",
    "conv7 = tf.nn.relu(conv(conv6, w_conv7) + b_conv7)\n",
    "\n",
    "#Convolutional layer 8\n",
    "w_conv8 = weight('w_conv8', [5, 1, 256, 256])\n",
    "b_conv8 = bias('b_conv8', [256])\n",
    "conv8 = tf.nn.relu(conv(conv7, w_conv8) + b_conv8)\n",
    "\n",
    "#Max pool 4\n",
    "conv8 = maxPool(conv8, 5)\n",
    "print(conv8.shape)\n",
    "\n",
    "#Convolution layer 9\n",
    "w_conv9 = weight('w_conv9', [5, 1, 256, 256])\n",
    "b_conv9 = bias('b_conv9', [256])\n",
    "conv9 = tf.nn.relu(conv(conv8, w_conv9) + b_conv9)\n",
    "\n",
    "#Max pool 5\n",
    "conv9 = maxPool(conv9, 4)\n",
    "print(conv9.shape)\n",
    "\n",
    "#Flatten\n",
    "flat = tf.reshape(conv9, [-1, 12 * 256])\n",
    "\n",
    "#Fully connected layer\n",
    "w_fc = weight('w_fc', [12 * 256, 20])\n",
    "b_fc = bias('b_fc', [20])\n",
    "fc = tf.nn.relu(tf.matmul(flat, w_fc) + b_fc)\n",
    "#fc = tf.nn.dropout(fc, .9)\n",
    "\n",
    "\n",
    "#Output layer\n",
    "w_fc1 = weight('w_fc1', [20, 3])\n",
    "b_fc1 = bias('b_fc1', [3])\n",
    "prediction = (tf.matmul(fc, w_fc1) + b_fc1)"
   ]
  },
  {
   "cell_type": "markdown",
   "metadata": {},
   "source": [
    "Train neural network"
   ]
  },
  {
   "cell_type": "code",
   "execution_count": 5,
   "metadata": {},
   "outputs": [],
   "source": [
    "def train(lr, batch_size, threshold, epochs):\n",
    "    \n",
    "    print(\"\\n######################################\")\n",
    "    print(\"Learning rate: \" + str(lr) + \" Batch size: \" + str(batch_size))\n",
    "    print(\"######################################\\n\")\n",
    "\n",
    "    cost = (tf.losses.mean_squared_error(prediction, y))\n",
    "\n",
    "    re_q = tf.divide(tf.abs(tf.subtract(prediction[:,0], y[:,0])), y[:,0]) * 100  #Relative error\n",
    "    re_s1z = tf.divide(tf.abs(tf.subtract(prediction[:,1], y[:,1])), y[:,1]) * 100  #Relative error\n",
    "    re_s2z = tf.divide(tf.abs(tf.subtract(prediction[:,2], y[:,2])), (y[:,2])) * 100  #Relative error\n",
    "\n",
    "    q = tf.reduce_mean(re_q)\n",
    "    s1z = tf.reduce_mean(re_s1z)\n",
    "    s2z = tf.reduce_mean(re_s2z)\n",
    "\n",
    "    optimizer = tf.train.AdamOptimizer(lr).minimize(cost)\n",
    "\n",
    "    # config = tf.ConfigProto(device_count = {'GPU': 0}) #Use CPU instead of GPU\n",
    "\n",
    "    with tf.Session() as sess:\n",
    "        sess.run(tf.global_variables_initializer())\n",
    "        sample, label = process_data('datasets/train50.h5')\n",
    "        test_samples, test_labels = process_data('datasets/test.h5')\n",
    "\n",
    "        graph_cost = []\n",
    "        graph_epoch = []\n",
    "        total_size = (sample.shape)[0]\n",
    "\n",
    "        for epoch in range(epochs):\n",
    "            cost_ = 0\n",
    "            i = 0\n",
    "\n",
    "            temp_sample = np.copy(sample)\n",
    "            temp_label = np.copy(label)\n",
    "\n",
    "            np.random.seed(epoch%1000)\n",
    "            np.random.shuffle(temp_sample)\n",
    "            np.random.seed(epoch%1000)\n",
    "            np.random.shuffle(temp_label)\n",
    "\n",
    "            #Minibatches\n",
    "            while i < total_size:\n",
    "                if i + batch_size < test_samples.shape[0]:\n",
    "                    batch_sample = temp_sample[i:i+batch_size]\n",
    "                    batch_label = temp_label[i:i+batch_size]\n",
    "                else:\n",
    "                    batch_sample = temp_sample[i:]\n",
    "                    batch_label = temp_label[i:]\n",
    "\n",
    "                _, c = sess.run([optimizer, cost], feed_dict = {x: batch_sample, y: batch_label})\n",
    "                i += batch_size\n",
    "                cost_ += c/(total_size/batch_size)\n",
    "\n",
    "            if epoch % 10 == 0:\n",
    "                graph_epoch.append(epoch)\n",
    "                graph_cost.append(c)\n",
    "            \n",
    "            if epoch % 50 == 0:\n",
    "                print(str(epoch + 50) + \" out of \" + str(epochs) + \" completed. Loss: \" + str(c))\n",
    "\n",
    "\n",
    "        print(\"Relative Error for s2z on training set: \" +  str(s2z.eval({x: sample, y: label})) + \"%\")\n",
    "        print(\"Relative Error for s2z on test set: \" +  str(s2z.eval({x: test_samples, y: test_labels})) + \"%\")\n",
    "        \n",
    "        correct = (re_s2z < threshold)                          #see if the difference is less than the threshold\n",
    "        correct = tf.cast(correct, tf.float32)                  #convert boolean tensor to float32\n",
    "        accuracy = tf.reduce_mean(correct, axis=None) * 100     #convert to a percentage\n",
    "\n",
    "        print(\"Training set accuracy (less than \" + str(threshold) + \"% relative error): \" + str(accuracy.eval({x: sample, y: label})) + \"%\")\n",
    "        print(\"Test set accuracy (less than \" + str(threshold) + \"% relative error): \" + str(accuracy.eval({x: test_samples, y: test_labels})) + \"%\")\n",
    "        \n",
    "        plt.plot(graph_epoch, graph_cost)\n",
    "        plt.show()"
   ]
  },
  {
   "cell_type": "markdown",
   "metadata": {},
   "source": [
    "Test various hyperparameters"
   ]
  },
  {
   "cell_type": "code",
   "execution_count": 7,
   "metadata": {},
   "outputs": [
    {
     "name": "stdout",
     "output_type": "stream",
     "text": [
      "\n",
      "######################################\n",
      "Learning rate: 0.0001 Batch size: 5\n",
      "######################################\n",
      "\n",
      "50 out of 200 completed. Loss: 0.0950932\n",
      "100 out of 200 completed. Loss: 9.21791e-06\n",
      "150 out of 200 completed. Loss: 1.5451e-07\n",
      "200 out of 200 completed. Loss: 1.2641e-07\n",
      "Relative Error for s2z on training set: 0.794643%\n",
      "Relative Error for s2z on test set: 3.31437%\n",
      "Training set accuracy (less than 5% relative error): 100.0%\n",
      "Test set accuracy (less than 5% relative error): 85.7143%\n"
     ]
    },
    {
     "data": {
      "image/png": "[encoded data removed]",
      "text/plain": [
       "<matplotlib.figure.Figure at 0x3eefe91122d0>"
      ]
     },
     "metadata": {},
     "output_type": "display_data"
    }
   ],
   "source": [
    "lrs = [.0001]\n",
    "sizes = [5]\n",
    "\n",
    "for lr in lrs: \n",
    "    for size in sizes:\n",
    "        train(lr = lr, batch_size = size, threshold = 5, epochs = 200)"
   ]
  },
  {
   "cell_type": "code",
   "execution_count": null,
   "metadata": {},
   "outputs": [],
   "source": []
  },
  {
   "cell_type": "code",
   "execution_count": null,
   "metadata": {},
   "outputs": [],
   "source": []
  },
  {
   "cell_type": "code",
   "execution_count": null,
   "metadata": {},
   "outputs": [],
   "source": []
  },
  {
   "cell_type": "code",
   "execution_count": null,
   "metadata": {},
   "outputs": [],
   "source": []
  }
 ],
 "metadata": {
  "kernelspec": {
   "display_name": "Python 2",
   "language": "python",
   "name": "python2"
  },
  "language_info": {
   "codemirror_mode": {
    "name": "ipython",
    "version": 2
   },
   "file_extension": ".py",
   "mimetype": "text/x-python",
   "name": "python",
   "nbconvert_exporter": "python",
   "pygments_lexer": "ipython2",
   "version": "2.7.12"
  }
 },
 "nbformat": 4,
 "nbformat_minor": 2
}
